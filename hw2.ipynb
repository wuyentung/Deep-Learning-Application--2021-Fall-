{
  "nbformat": 4,
  "nbformat_minor": 0,
  "metadata": {
    "colab": {
      "name": "R09725049_吳延東 Deep WH2.ipynb",
      "provenance": [],
      "collapsed_sections": []
    },
    "kernelspec": {
      "display_name": "Python 3",
      "name": "python3"
    },
    "language_info": {
      "name": "python"
    }
  },
  "cells": [
    {
      "cell_type": "code",
      "metadata": {
        "id": "DyYTalEAcWqX"
      },
      "source": [
        "name = \"R09725049_吳延東\"\n",
        "timestep = 8"
      ],
      "execution_count": 1,
      "outputs": []
    },
    {
      "cell_type": "code",
      "metadata": {
        "colab": {
          "base_uri": "https://localhost:8080/"
        },
        "id": "4HzVDNtMfI_K",
        "outputId": "266f9269-b34d-461a-8946-286d4b407c70"
      },
      "source": [
        "! mkdir ~/.kaggle\n",
        "! cp kaggle.json ~/.kaggle/\n",
        "! chmod 600 ~/.kaggle/kaggle.json\n",
        "! kaggle competitions download -c ntu-homework2-ver2  --force\n",
        "! unzip training_x_grid.npy.zip\n",
        "! unzip testing_x_grid.npy.zip"
      ],
      "execution_count": 2,
      "outputs": [
        {
          "output_type": "stream",
          "name": "stdout",
          "text": [
            "Warning: Looks like you're using an outdated API Version, please consider updating (server 1.5.12 / client 1.5.4)\n",
            "Downloading training_y.npy to /content\n",
            "  0% 0.00/137k [00:00<?, ?B/s]\n",
            "100% 137k/137k [00:00<00:00, 42.2MB/s]\n",
            "Downloading testing_x_grid.npy.zip to /content\n",
            " 58% 18.0M/31.1M [00:00<00:00, 45.6MB/s]\n",
            "100% 31.1M/31.1M [00:00<00:00, 88.8MB/s]\n",
            "Downloading training_x_grid.npy.zip to /content\n",
            " 87% 27.0M/31.1M [00:00<00:00, 56.7MB/s]\n",
            "100% 31.1M/31.1M [00:00<00:00, 89.2MB/s]\n",
            "Archive:  training_x_grid.npy.zip\n",
            "  inflating: training_x_grid.npy     \n",
            "Archive:  testing_x_grid.npy.zip\n",
            "  inflating: testing_x_grid.npy      \n"
          ]
        }
      ]
    },
    {
      "cell_type": "markdown",
      "metadata": {
        "id": "TBTkvT4Lt68a"
      },
      "source": [
        "# Import packages"
      ]
    },
    {
      "cell_type": "code",
      "metadata": {
        "id": "02sjFk0BiAdh"
      },
      "source": [
        "import torch\n",
        "import torch.nn as nn\n",
        "import torch.nn.functional as F\n",
        "import torch.optim as optim\n",
        "from torchvision import transforms, datasets\n",
        "\n",
        "import pandas as pd\n",
        "import numpy as np\n",
        "\n",
        "from sklearn.model_selection import train_test_split\n",
        "from sklearn.preprocessing import Normalizer\n",
        "from sklearn.preprocessing import StandardScaler\n",
        "from sklearn.linear_model import LinearRegression\n",
        "\n",
        "import matplotlib.pyplot as plt\n",
        "\n",
        "from scipy import stats\n",
        "import time\n",
        "\n",
        "import tensorflow as tf\n",
        "\n",
        "from tensorflow.keras import datasets, layers, models\n",
        "import matplotlib.pyplot as plt\n",
        "\n",
        "seed = 5566\n",
        "np.random.seed(seed)"
      ],
      "execution_count": 3,
      "outputs": []
    },
    {
      "cell_type": "code",
      "metadata": {
        "colab": {
          "base_uri": "https://localhost:8080/"
        },
        "id": "akhohzW8c1YM",
        "outputId": "de5acef0-a014-4eae-ca7d-ba11cc9cdf3e"
      },
      "source": [
        "## initailize\n",
        "training_grid = np.load('training_x_grid.npy')\n",
        "testing_grid = np.load('testing_x_grid.npy')\n",
        "print(training_grid.shape, testing_grid.shape)\n",
        "\n",
        "y = np.load('training_y.npy')\n",
        "print(y.shape)"
      ],
      "execution_count": 4,
      "outputs": [
        {
          "output_type": "stream",
          "name": "stdout",
          "text": [
            "(8760, 30, 38, 13) (8760, 30, 38, 13)\n",
            "(8760, 2)\n"
          ]
        }
      ]
    },
    {
      "cell_type": "markdown",
      "metadata": {
        "id": "vmCzhOXKuAGQ"
      },
      "source": [
        "## 幫 CNN 切訓練、驗證資料集"
      ]
    },
    {
      "cell_type": "code",
      "metadata": {
        "id": "pNCes5fdlAmq"
      },
      "source": [
        "new_training_grid, val_grid, y_train, y_val = train_test_split(\n",
        "    training_grid, y, test_size=0.33, random_state=seed)"
      ],
      "execution_count": 5,
      "outputs": []
    },
    {
      "cell_type": "code",
      "metadata": {
        "colab": {
          "base_uri": "https://localhost:8080/"
        },
        "id": "b-mtuB2flTbL",
        "outputId": "e24ea816-08c7-46d9-cbc7-8782c11baf00"
      },
      "source": [
        "print(new_training_grid.shape)\n",
        "print(val_grid.shape)\n",
        "print(y_train.shape)\n",
        "print(y_val.shape)"
      ],
      "execution_count": 6,
      "outputs": [
        {
          "output_type": "stream",
          "name": "stdout",
          "text": [
            "(5869, 30, 38, 13)\n",
            "(2891, 30, 38, 13)\n",
            "(5869, 2)\n",
            "(2891, 2)\n"
          ]
        }
      ]
    },
    {
      "cell_type": "code",
      "metadata": {
        "colab": {
          "base_uri": "https://localhost:8080/",
          "height": 279
        },
        "id": "T-ioLRF3dHaq",
        "outputId": "8828d0d0-6a45-4df5-8efd-e3862b9c3254"
      },
      "source": [
        "features = -2 #AMB_TEMP, CO, NO, NO2, NOx, O3, PM10, RAINFALL, RH, SO2, THC ,cos_wind, sin_wind\n",
        "image_shape = new_training_grid[0,:,:,0].shape\n",
        "print(image_shape)\n",
        "\n",
        "plt.imshow(new_training_grid[0,:,:,features])\n",
        "plt.colorbar()\n",
        "plt.show()"
      ],
      "execution_count": 7,
      "outputs": [
        {
          "output_type": "stream",
          "name": "stdout",
          "text": [
            "(30, 38)\n"
          ]
        },
        {
          "output_type": "display_data",
          "data": {
            "image/png": "[encoded data removed]",
            "text/plain": [
              "<Figure size 432x288 with 2 Axes>"
            ]
          },
          "metadata": {
            "needs_background": "light"
          }
        }
      ]
    },
    {
      "cell_type": "code",
      "metadata": {
        "colab": {
          "base_uri": "https://localhost:8080/"
        },
        "id": "sfpZW-w-0kCl",
        "outputId": "8094d1fe-9e3a-4666-804c-180acd7fecf4"
      },
      "source": [
        "np.c_[new_training_grid, np.expand_dims(np.multiply(new_training_grid[:, :, :, -1], new_training_grid[:, :, :, -2]), axis=3)].shape"
      ],
      "execution_count": 8,
      "outputs": [
        {
          "output_type": "execute_result",
          "data": {
            "text/plain": [
              "(5869, 30, 38, 14)"
            ]
          },
          "metadata": {},
          "execution_count": 8
        }
      ]
    },
    {
      "cell_type": "markdown",
      "metadata": {
        "id": "W3xnV1EEuH6v"
      },
      "source": [
        "## 前處理：\n",
        "因為 cos, sin 的風向向量交乘話會有更詳盡的關係，所以在前處理時會將資料多加一相乘的欄位"
      ]
    },
    {
      "cell_type": "code",
      "metadata": {
        "id": "Vc5xxgnM8_o0"
      },
      "source": [
        "def preprocessing(array):\n",
        "    return np.c_[array, np.expand_dims(np.multiply(array[:, :, :, -1], array[:, :, :, -2]), axis=3)]"
      ],
      "execution_count": 9,
      "outputs": []
    },
    {
      "cell_type": "code",
      "metadata": {
        "colab": {
          "base_uri": "https://localhost:8080/"
        },
        "id": "OxxWhWAn95Pz",
        "outputId": "4cef2d04-9549-4cb6-8efb-b3bc98cd4d05"
      },
      "source": [
        "preprocessing(new_training_grid).shape"
      ],
      "execution_count": 10,
      "outputs": [
        {
          "output_type": "execute_result",
          "data": {
            "text/plain": [
              "(5869, 30, 38, 14)"
            ]
          },
          "metadata": {},
          "execution_count": 10
        }
      ]
    },
    {
      "cell_type": "markdown",
      "metadata": {
        "id": "Q0DVJrEcubW_"
      },
      "source": [
        "# CNN model"
      ]
    },
    {
      "cell_type": "code",
      "metadata": {
        "id": "EmNs8C_npJQq",
        "colab": {
          "base_uri": "https://localhost:8080/"
        },
        "outputId": "1ab5a2d8-ac74-442b-b190-d44a0b0aec52"
      },
      "source": [
        "cnn = models.Sequential()\n",
        "cnn.add(layers.Conv2D(32, (3, 3), activation='relu', input_shape=(30, 38, 14)))\n",
        "cnn.add(layers.MaxPooling2D((2, 2)))\n",
        "cnn.add(layers.Conv2D(64, (3, 3), activation='relu'))\n",
        "cnn.add(layers.Flatten())\n",
        "cnn.add(layers.Dense(64, activation='relu'))\n",
        "cnn.add(layers.Dense(2))\n",
        "\n",
        "cnn.compile(optimizer='adam', loss=tf.keras.losses.MeanSquaredError())\n",
        "\n",
        "# Model weights are saved at the end of every epoch, if it's the best seen so far.\n",
        "# And early stop in 10 epochs\n",
        "\n",
        "checkpoint_filepath = 'cnn.h5'\n",
        "my_callbacks = [\n",
        "    tf.keras.callbacks.EarlyStopping(patience=10),\n",
        "    tf.keras.callbacks.ModelCheckpoint(\n",
        "        filepath=checkpoint_filepath,\n",
        "        save_weights_only=True,\n",
        "        monitor='val_loss',\n",
        "        mode='min',\n",
        "        save_best_only=True),\n",
        "]\n",
        "\n",
        "cnn_history = cnn.fit(\n",
        "    preprocessing(new_training_grid), y_train, epochs=100, \n",
        "    validation_data=(preprocessing(val_grid), y_val), batch_size=256, workers=2, use_multiprocessing=True, \n",
        "    callbacks=my_callbacks\n",
        "    )\n",
        "\n",
        "# The model weights (that are considered the best) are loaded into the model.\n",
        "cnn.load_weights(checkpoint_filepath)"
      ],
      "execution_count": 12,
      "outputs": [
        {
          "output_type": "stream",
          "name": "stdout",
          "text": [
            "Epoch 1/100\n",
            "23/23 [==============================] - 12s 488ms/step - loss: 1146.9147 - val_loss: 63.5710\n",
            "Epoch 2/100\n",
            "23/23 [==============================] - 11s 479ms/step - loss: 59.3647 - val_loss: 52.1851\n",
            "Epoch 3/100\n",
            "23/23 [==============================] - 11s 478ms/step - loss: 50.5317 - val_loss: 44.8102\n",
            "Epoch 4/100\n",
            "23/23 [==============================] - 11s 478ms/step - loss: 46.4108 - val_loss: 43.2911\n",
            "Epoch 5/100\n",
            "23/23 [==============================] - 11s 476ms/step - loss: 43.1712 - val_loss: 41.1451\n",
            "Epoch 6/100\n",
            "23/23 [==============================] - 11s 474ms/step - loss: 42.5375 - val_loss: 40.7763\n",
            "Epoch 7/100\n",
            "23/23 [==============================] - 11s 474ms/step - loss: 40.6391 - val_loss: 38.9758\n",
            "Epoch 8/100\n",
            "23/23 [==============================] - 11s 475ms/step - loss: 39.0699 - val_loss: 40.1236\n",
            "Epoch 9/100\n",
            "23/23 [==============================] - 11s 476ms/step - loss: 39.1082 - val_loss: 39.9800\n",
            "Epoch 10/100\n",
            "23/23 [==============================] - 11s 476ms/step - loss: 38.5912 - val_loss: 37.7301\n",
            "Epoch 11/100\n",
            "23/23 [==============================] - 11s 474ms/step - loss: 37.5540 - val_loss: 38.2028\n",
            "Epoch 12/100\n",
            "23/23 [==============================] - 11s 476ms/step - loss: 38.1270 - val_loss: 38.4088\n",
            "Epoch 13/100\n",
            "23/23 [==============================] - 11s 476ms/step - loss: 37.1838 - val_loss: 36.9162\n",
            "Epoch 14/100\n",
            "23/23 [==============================] - 11s 477ms/step - loss: 36.1333 - val_loss: 36.9241\n",
            "Epoch 15/100\n",
            "23/23 [==============================] - 11s 479ms/step - loss: 36.3253 - val_loss: 36.4030\n",
            "Epoch 16/100\n",
            "23/23 [==============================] - 11s 476ms/step - loss: 36.2834 - val_loss: 36.0614\n",
            "Epoch 17/100\n",
            "23/23 [==============================] - 11s 476ms/step - loss: 37.1396 - val_loss: 37.2820\n",
            "Epoch 18/100\n",
            "23/23 [==============================] - 11s 474ms/step - loss: 35.8988 - val_loss: 37.3586\n",
            "Epoch 19/100\n",
            "23/23 [==============================] - 11s 478ms/step - loss: 34.3420 - val_loss: 37.9881\n",
            "Epoch 20/100\n",
            "23/23 [==============================] - 11s 473ms/step - loss: 34.9385 - val_loss: 35.7943\n",
            "Epoch 21/100\n",
            "23/23 [==============================] - 11s 473ms/step - loss: 33.6492 - val_loss: 35.3685\n",
            "Epoch 22/100\n",
            "23/23 [==============================] - 11s 474ms/step - loss: 33.4849 - val_loss: 39.3891\n",
            "Epoch 23/100\n",
            "23/23 [==============================] - 11s 476ms/step - loss: 33.0574 - val_loss: 35.1449\n",
            "Epoch 24/100\n",
            "23/23 [==============================] - 11s 473ms/step - loss: 32.4740 - val_loss: 34.5699\n",
            "Epoch 25/100\n",
            "23/23 [==============================] - 11s 471ms/step - loss: 32.6232 - val_loss: 34.8759\n",
            "Epoch 26/100\n",
            "23/23 [==============================] - 11s 472ms/step - loss: 33.9605 - val_loss: 35.2651\n",
            "Epoch 27/100\n",
            "23/23 [==============================] - 11s 471ms/step - loss: 32.8942 - val_loss: 39.4034\n",
            "Epoch 28/100\n",
            "23/23 [==============================] - 11s 469ms/step - loss: 33.0219 - val_loss: 34.5262\n",
            "Epoch 29/100\n",
            "23/23 [==============================] - 11s 474ms/step - loss: 31.1006 - val_loss: 35.2020\n",
            "Epoch 30/100\n",
            "23/23 [==============================] - 11s 472ms/step - loss: 32.5157 - val_loss: 35.1246\n",
            "Epoch 31/100\n",
            "23/23 [==============================] - 11s 474ms/step - loss: 33.1116 - val_loss: 34.9857\n",
            "Epoch 32/100\n",
            "23/23 [==============================] - 11s 476ms/step - loss: 34.2609 - val_loss: 36.1426\n",
            "Epoch 33/100\n",
            "23/23 [==============================] - 11s 477ms/step - loss: 30.8312 - val_loss: 34.0889\n",
            "Epoch 34/100\n",
            "23/23 [==============================] - 11s 472ms/step - loss: 31.1527 - val_loss: 34.1089\n",
            "Epoch 35/100\n",
            "23/23 [==============================] - 11s 475ms/step - loss: 30.1059 - val_loss: 33.8860\n",
            "Epoch 36/100\n",
            "23/23 [==============================] - 11s 475ms/step - loss: 30.3967 - val_loss: 34.8397\n",
            "Epoch 37/100\n",
            "23/23 [==============================] - 11s 473ms/step - loss: 30.8531 - val_loss: 34.4138\n",
            "Epoch 38/100\n",
            "23/23 [==============================] - 11s 475ms/step - loss: 29.1612 - val_loss: 34.0834\n",
            "Epoch 39/100\n",
            "23/23 [==============================] - 11s 474ms/step - loss: 29.2987 - val_loss: 33.6741\n",
            "Epoch 40/100\n",
            "23/23 [==============================] - 11s 474ms/step - loss: 29.6055 - val_loss: 35.2595\n",
            "Epoch 41/100\n",
            "23/23 [==============================] - 11s 476ms/step - loss: 29.2179 - val_loss: 34.7726\n",
            "Epoch 42/100\n",
            "23/23 [==============================] - 11s 475ms/step - loss: 28.7309 - val_loss: 33.6842\n",
            "Epoch 43/100\n",
            "23/23 [==============================] - 11s 476ms/step - loss: 28.3200 - val_loss: 34.8186\n",
            "Epoch 44/100\n",
            "23/23 [==============================] - 11s 476ms/step - loss: 28.9825 - val_loss: 33.8185\n",
            "Epoch 45/100\n",
            "23/23 [==============================] - 11s 478ms/step - loss: 28.0873 - val_loss: 33.1024\n",
            "Epoch 46/100\n",
            "23/23 [==============================] - 11s 476ms/step - loss: 28.0635 - val_loss: 32.7466\n",
            "Epoch 47/100\n",
            "23/23 [==============================] - 11s 475ms/step - loss: 28.2491 - val_loss: 35.6018\n",
            "Epoch 48/100\n",
            "23/23 [==============================] - 11s 475ms/step - loss: 28.1592 - val_loss: 37.9729\n",
            "Epoch 49/100\n",
            "23/23 [==============================] - 11s 474ms/step - loss: 30.3749 - val_loss: 33.4602\n",
            "Epoch 50/100\n",
            "23/23 [==============================] - 11s 475ms/step - loss: 30.1403 - val_loss: 33.8129\n",
            "Epoch 51/100\n",
            "23/23 [==============================] - 11s 473ms/step - loss: 28.1937 - val_loss: 32.7957\n",
            "Epoch 52/100\n",
            "23/23 [==============================] - 11s 474ms/step - loss: 28.2031 - val_loss: 38.2348\n",
            "Epoch 53/100\n",
            "23/23 [==============================] - 11s 475ms/step - loss: 29.0267 - val_loss: 36.2461\n",
            "Epoch 54/100\n",
            "23/23 [==============================] - 11s 475ms/step - loss: 27.5692 - val_loss: 34.1638\n",
            "Epoch 55/100\n",
            "23/23 [==============================] - 11s 478ms/step - loss: 26.3118 - val_loss: 33.1575\n",
            "Epoch 56/100\n",
            "23/23 [==============================] - 11s 475ms/step - loss: 27.7722 - val_loss: 32.9593\n"
          ]
        }
      ]
    },
    {
      "cell_type": "code",
      "metadata": {
        "colab": {
          "base_uri": "https://localhost:8080/"
        },
        "id": "LyT5qDfDoELL",
        "outputId": "0aeea17d-f5ff-4ad2-a699-5d1e919b3387"
      },
      "source": [
        "cnn.summary()"
      ],
      "execution_count": 13,
      "outputs": [
        {
          "output_type": "stream",
          "name": "stdout",
          "text": [
            "Model: \"sequential\"\n",
            "_________________________________________________________________\n",
            " Layer (type)                Output Shape              Param #   \n",
            "=================================================================\n",
            " conv2d (Conv2D)             (None, 28, 36, 32)        4064      \n",
            "                                                                 \n",
            " max_pooling2d (MaxPooling2D  (None, 14, 18, 32)       0         \n",
            " )                                                               \n",
            "                                                                 \n",
            " conv2d_1 (Conv2D)           (None, 12, 16, 64)        18496     \n",
            "                                                                 \n",
            " flatten (Flatten)           (None, 12288)             0         \n",
            "                                                                 \n",
            " dense (Dense)               (None, 64)                786496    \n",
            "                                                                 \n",
            " dense_1 (Dense)             (None, 2)                 130       \n",
            "                                                                 \n",
            "=================================================================\n",
            "Total params: 809,186\n",
            "Trainable params: 809,186\n",
            "Non-trainable params: 0\n",
            "_________________________________________________________________\n"
          ]
        }
      ]
    },
    {
      "cell_type": "code",
      "metadata": {
        "id": "SLA5folOzePA"
      },
      "source": [
        "training_pred = cnn.predict(preprocessing(new_training_grid),)\n",
        "val_pred = cnn.predict(preprocessing(val_grid),)\n",
        "testing_pred = cnn.predict(preprocessing(testing_grid),)"
      ],
      "execution_count": 14,
      "outputs": []
    },
    {
      "cell_type": "markdown",
      "metadata": {
        "id": "aTtdLgmwupI9"
      },
      "source": [
        "## 看 CNN 對訓練、驗證資料集的預測結果與真實結果之間的關係"
      ]
    },
    {
      "cell_type": "code",
      "metadata": {
        "colab": {
          "base_uri": "https://localhost:8080/"
        },
        "id": "E-6n2RmU2-zh",
        "outputId": "80086089-f0de-4665-f549-68a02ecfdc11"
      },
      "source": [
        "np.corrcoef(training_pred.T[0], y_train.T[0])"
      ],
      "execution_count": 15,
      "outputs": [
        {
          "output_type": "execute_result",
          "data": {
            "text/plain": [
              "array([[1.        , 0.91999675],\n",
              "       [0.91999675, 1.        ]])"
            ]
          },
          "metadata": {},
          "execution_count": 15
        }
      ]
    },
    {
      "cell_type": "code",
      "metadata": {
        "colab": {
          "base_uri": "https://localhost:8080/"
        },
        "id": "rsrXl03T3HdA",
        "outputId": "49dcde89-192f-409c-8500-882ea680fab8"
      },
      "source": [
        "np.corrcoef(training_pred.T[1], y_train.T[1])"
      ],
      "execution_count": 16,
      "outputs": [
        {
          "output_type": "execute_result",
          "data": {
            "text/plain": [
              "array([[1.        , 0.93004634],\n",
              "       [0.93004634, 1.        ]])"
            ]
          },
          "metadata": {},
          "execution_count": 16
        }
      ]
    },
    {
      "cell_type": "code",
      "metadata": {
        "colab": {
          "base_uri": "https://localhost:8080/",
          "height": 374
        },
        "id": "5VxhhZoAsvlt",
        "outputId": "4fe679b9-888a-462b-d437-1ac3329d6031"
      },
      "source": [
        "plt.figure(figsize=(8, 6))\n",
        "plt.scatter(val_pred.T[0], y_val.T[0])\n",
        "plt.plot(np.arange(np.max(val_pred.T[0])), c=\"r\")\n",
        "plt.show()"
      ],
      "execution_count": 17,
      "outputs": [
        {
          "output_type": "display_data",
          "data": {
            "image/png": "[encoded data removed]",
            "text/plain": [
              "<Figure size 576x432 with 1 Axes>"
            ]
          },
          "metadata": {
            "needs_background": "light"
          }
        }
      ]
    },
    {
      "cell_type": "markdown",
      "metadata": {
        "id": "ZfonRqI7vA71"
      },
      "source": [
        "## 進入 RNN 前的準備"
      ]
    },
    {
      "cell_type": "code",
      "metadata": {
        "id": "-xQpnHmhjI-l"
      },
      "source": [
        "training_pred = cnn.predict(preprocessing(training_grid),)\n",
        "testing_pred = cnn.predict(preprocessing(testing_grid),)"
      ],
      "execution_count": 18,
      "outputs": []
    },
    {
      "cell_type": "code",
      "metadata": {
        "colab": {
          "base_uri": "https://localhost:8080/"
        },
        "id": "XqhCZc_yjf6w",
        "outputId": "2cc25058-7e79-476e-d8c7-a704c8564647"
      },
      "source": [
        "y.shape"
      ],
      "execution_count": 19,
      "outputs": [
        {
          "output_type": "execute_result",
          "data": {
            "text/plain": [
              "(8760, 2)"
            ]
          },
          "metadata": {},
          "execution_count": 19
        }
      ]
    },
    {
      "cell_type": "code",
      "metadata": {
        "colab": {
          "base_uri": "https://localhost:8080/"
        },
        "id": "DxQ8QGLzjEKZ",
        "outputId": "7891ff9b-61d2-47ab-c7dc-4a2f7042d078"
      },
      "source": [
        "timestep = 8\n",
        "training_pred_rnn, testing_pred_rnn = ([] for _ in range(2))\n",
        "\n",
        "for i in range(training_grid.shape[0]-timestep):\n",
        "    training_pred_rnn.append(training_pred[i:i+timestep])\n",
        "    testing_pred_rnn.append(testing_pred[i:i+timestep])\n",
        "training_pred_rnn = np.array(training_pred_rnn)\n",
        "testing_pred_rnn = np.array(testing_pred_rnn)\n",
        "training_y_rnn = y[timestep:] #(8760,2) - > (8752,2)\n",
        "    \n",
        "print(training_y_rnn.shape, testing_pred_rnn.shape) #(8752,8,2)"
      ],
      "execution_count": 20,
      "outputs": [
        {
          "output_type": "stream",
          "name": "stdout",
          "text": [
            "(8752, 2) (8752, 8, 2)\n"
          ]
        }
      ]
    },
    {
      "cell_type": "code",
      "metadata": {
        "colab": {
          "base_uri": "https://localhost:8080/"
        },
        "id": "y6_Wp29_uM5O",
        "outputId": "d183ce99-6c0c-494c-b3eb-10c3c22a9df1"
      },
      "source": [
        "np.random.random([32, 10, 8]).astype(np.float32).shape"
      ],
      "execution_count": 31,
      "outputs": [
        {
          "output_type": "execute_result",
          "data": {
            "text/plain": [
              "(32, 10, 8)"
            ]
          },
          "metadata": {},
          "execution_count": 31
        }
      ]
    },
    {
      "cell_type": "markdown",
      "metadata": {
        "id": "ZiYWuc7xtSKd"
      },
      "source": [
        "# RNN model"
      ]
    },
    {
      "cell_type": "code",
      "metadata": {
        "id": "4ZVUizAWtT06"
      },
      "source": [
        "rnn = models.Sequential()\n",
        "\n",
        "rnn.add(layers.Input(shape=(8, 2)))\n",
        "# Add a LSTM layer with 128 internal units.\n",
        "rnn.add(layers.SimpleRNN(128, dropout=0.2))\n",
        "# 運用 layer normalization 來處理資料散佈有極端值的問題\n",
        "rnn.add(layers.LayerNormalization(axis=-1))\n",
        "# Add a Dense layer with 2 units.\n",
        "rnn.add(layers.Dense(2))"
      ],
      "execution_count": 21,
      "outputs": []
    },
    {
      "cell_type": "code",
      "metadata": {
        "colab": {
          "base_uri": "https://localhost:8080/"
        },
        "id": "XQf7YpcLw18Y",
        "outputId": "868ee340-b498-488c-c1e0-0ac43da6bbd6"
      },
      "source": [
        "# 因為 epoch 跑比較多次，所以 learning rate 調比較小\n",
        "rnn.compile(optimizer=tf.keras.optimizers.Adam(learning_rate=0.002), loss=tf.keras.losses.MeanSquaredError())\n",
        "\n",
        "# Model weights are saved at the end of every epoch, if it's the best seen so far.\n",
        "# And early stop in 2 epochs\n",
        "\n",
        "checkpoint_filepath = 'rnn.h5'\n",
        "my_callbacks = [\n",
        "    tf.keras.callbacks.EarlyStopping(patience=50),\n",
        "    tf.keras.callbacks.ModelCheckpoint(\n",
        "        filepath=checkpoint_filepath,\n",
        "        save_weights_only=True,\n",
        "        monitor='val_loss',\n",
        "        mode='min',\n",
        "        save_best_only=True),\n",
        "]\n",
        "\n",
        "# The model weights (that are considered the best) are loaded into the model.\n",
        "rnn_history = rnn.fit(\n",
        "    training_pred_rnn, training_y_rnn, epochs=200, validation_split=0.1, batch_size=64, workers=8, use_multiprocessing=True, \n",
        "    callbacks=my_callbacks\n",
        "    )\n",
        "\n",
        "rnn.load_weights(checkpoint_filepath)"
      ],
      "execution_count": 26,
      "outputs": [
        {
          "output_type": "stream",
          "name": "stdout",
          "text": [
            "Epoch 1/200\n",
            "124/124 [==============================] - 2s 8ms/step - loss: 39.8005 - val_loss: 59.2433\n",
            "Epoch 2/200\n",
            "124/124 [==============================] - 1s 7ms/step - loss: 38.9627 - val_loss: 55.7053\n",
            "Epoch 3/200\n",
            "124/124 [==============================] - 1s 7ms/step - loss: 39.7456 - val_loss: 71.0312\n",
            "Epoch 4/200\n",
            "124/124 [==============================] - 1s 7ms/step - loss: 39.5495 - val_loss: 56.3776\n",
            "Epoch 5/200\n",
            "124/124 [==============================] - 1s 7ms/step - loss: 38.9573 - val_loss: 61.6783\n",
            "Epoch 6/200\n",
            "124/124 [==============================] - 1s 7ms/step - loss: 39.0730 - val_loss: 54.3213\n",
            "Epoch 7/200\n",
            "124/124 [==============================] - 1s 7ms/step - loss: 38.7434 - val_loss: 47.7335\n",
            "Epoch 8/200\n",
            "124/124 [==============================] - 1s 7ms/step - loss: 38.4015 - val_loss: 63.5289\n",
            "Epoch 9/200\n",
            "124/124 [==============================] - 1s 7ms/step - loss: 38.0560 - val_loss: 48.2207\n",
            "Epoch 10/200\n",
            "124/124 [==============================] - 1s 7ms/step - loss: 38.2612 - val_loss: 55.7097\n",
            "Epoch 11/200\n",
            "124/124 [==============================] - 1s 7ms/step - loss: 38.3852 - val_loss: 51.6060\n",
            "Epoch 12/200\n",
            "124/124 [==============================] - 1s 7ms/step - loss: 38.8413 - val_loss: 60.9348\n",
            "Epoch 13/200\n",
            "124/124 [==============================] - 1s 7ms/step - loss: 38.9408 - val_loss: 51.1454\n",
            "Epoch 14/200\n",
            "124/124 [==============================] - 1s 7ms/step - loss: 39.2625 - val_loss: 54.1254\n",
            "Epoch 15/200\n",
            "124/124 [==============================] - 1s 7ms/step - loss: 39.0156 - val_loss: 46.3769\n",
            "Epoch 16/200\n",
            "124/124 [==============================] - 1s 7ms/step - loss: 39.0883 - val_loss: 45.2020\n",
            "Epoch 17/200\n",
            "124/124 [==============================] - 1s 7ms/step - loss: 39.4010 - val_loss: 47.5209\n",
            "Epoch 18/200\n",
            "124/124 [==============================] - 1s 7ms/step - loss: 38.3197 - val_loss: 48.3424\n",
            "Epoch 19/200\n",
            "124/124 [==============================] - 1s 7ms/step - loss: 37.9086 - val_loss: 48.1150\n",
            "Epoch 20/200\n",
            "124/124 [==============================] - 1s 7ms/step - loss: 38.4308 - val_loss: 57.2781\n",
            "Epoch 21/200\n",
            "124/124 [==============================] - 1s 7ms/step - loss: 38.9886 - val_loss: 59.1988\n",
            "Epoch 22/200\n",
            "124/124 [==============================] - 1s 7ms/step - loss: 38.1273 - val_loss: 60.1731\n",
            "Epoch 23/200\n",
            "124/124 [==============================] - 1s 6ms/step - loss: 38.6705 - val_loss: 56.2136\n",
            "Epoch 24/200\n",
            "124/124 [==============================] - 1s 6ms/step - loss: 37.6095 - val_loss: 55.0265\n",
            "Epoch 25/200\n",
            "124/124 [==============================] - 1s 7ms/step - loss: 38.2895 - val_loss: 49.6757\n",
            "Epoch 26/200\n",
            "124/124 [==============================] - 1s 7ms/step - loss: 38.6838 - val_loss: 51.2209\n",
            "Epoch 27/200\n",
            "124/124 [==============================] - 1s 7ms/step - loss: 37.6198 - val_loss: 65.2820\n",
            "Epoch 28/200\n",
            "124/124 [==============================] - 1s 7ms/step - loss: 38.5184 - val_loss: 47.2240\n",
            "Epoch 29/200\n",
            "124/124 [==============================] - 1s 6ms/step - loss: 38.4976 - val_loss: 69.8823\n",
            "Epoch 30/200\n",
            "124/124 [==============================] - 1s 7ms/step - loss: 38.3872 - val_loss: 46.6064\n",
            "Epoch 31/200\n",
            "124/124 [==============================] - 1s 7ms/step - loss: 38.5790 - val_loss: 42.9491\n",
            "Epoch 32/200\n",
            "124/124 [==============================] - 1s 7ms/step - loss: 38.5450 - val_loss: 55.8408\n",
            "Epoch 33/200\n",
            "124/124 [==============================] - 1s 7ms/step - loss: 37.8228 - val_loss: 59.1578\n",
            "Epoch 34/200\n",
            "124/124 [==============================] - 1s 7ms/step - loss: 37.7668 - val_loss: 49.2936\n",
            "Epoch 35/200\n",
            "124/124 [==============================] - 1s 7ms/step - loss: 38.0685 - val_loss: 51.0566\n",
            "Epoch 36/200\n",
            "124/124 [==============================] - 1s 6ms/step - loss: 38.2768 - val_loss: 52.6201\n",
            "Epoch 37/200\n",
            "124/124 [==============================] - 1s 7ms/step - loss: 37.9558 - val_loss: 46.8483\n",
            "Epoch 38/200\n",
            "124/124 [==============================] - 1s 7ms/step - loss: 38.7719 - val_loss: 57.9611\n",
            "Epoch 39/200\n",
            "124/124 [==============================] - 1s 7ms/step - loss: 38.6307 - val_loss: 47.8006\n",
            "Epoch 40/200\n",
            "124/124 [==============================] - 1s 7ms/step - loss: 38.1639 - val_loss: 65.1204\n",
            "Epoch 41/200\n",
            "124/124 [==============================] - 1s 7ms/step - loss: 39.6273 - val_loss: 53.3191\n",
            "Epoch 42/200\n",
            "124/124 [==============================] - 1s 7ms/step - loss: 39.0621 - val_loss: 55.3049\n",
            "Epoch 43/200\n",
            "124/124 [==============================] - 1s 7ms/step - loss: 39.9228 - val_loss: 63.3736\n",
            "Epoch 44/200\n",
            "124/124 [==============================] - 1s 7ms/step - loss: 38.4067 - val_loss: 45.9026\n",
            "Epoch 45/200\n",
            "124/124 [==============================] - 1s 7ms/step - loss: 37.7616 - val_loss: 45.3244\n",
            "Epoch 46/200\n",
            "124/124 [==============================] - 1s 7ms/step - loss: 38.6045 - val_loss: 50.1328\n",
            "Epoch 47/200\n",
            "124/124 [==============================] - 1s 7ms/step - loss: 38.2087 - val_loss: 64.6739\n",
            "Epoch 48/200\n",
            "124/124 [==============================] - 1s 7ms/step - loss: 38.3741 - val_loss: 47.1574\n",
            "Epoch 49/200\n",
            "124/124 [==============================] - 1s 7ms/step - loss: 38.9900 - val_loss: 50.7105\n",
            "Epoch 50/200\n",
            "124/124 [==============================] - 1s 7ms/step - loss: 38.0542 - val_loss: 55.9398\n",
            "Epoch 51/200\n",
            "124/124 [==============================] - 1s 7ms/step - loss: 37.8033 - val_loss: 45.8189\n",
            "Epoch 52/200\n",
            "124/124 [==============================] - 1s 7ms/step - loss: 37.6478 - val_loss: 55.0754\n",
            "Epoch 53/200\n",
            "124/124 [==============================] - 1s 7ms/step - loss: 37.6280 - val_loss: 71.8807\n",
            "Epoch 54/200\n",
            "124/124 [==============================] - 1s 7ms/step - loss: 37.6850 - val_loss: 48.5119\n",
            "Epoch 55/200\n",
            "124/124 [==============================] - 1s 7ms/step - loss: 37.8832 - val_loss: 61.5814\n",
            "Epoch 56/200\n",
            "124/124 [==============================] - 1s 7ms/step - loss: 38.1108 - val_loss: 44.5620\n",
            "Epoch 57/200\n",
            "124/124 [==============================] - 1s 7ms/step - loss: 37.8257 - val_loss: 44.6493\n",
            "Epoch 58/200\n",
            "124/124 [==============================] - 1s 7ms/step - loss: 38.6571 - val_loss: 46.9734\n",
            "Epoch 59/200\n",
            "124/124 [==============================] - 1s 6ms/step - loss: 38.1789 - val_loss: 58.8591\n",
            "Epoch 60/200\n",
            "124/124 [==============================] - 1s 7ms/step - loss: 38.5820 - val_loss: 45.7507\n",
            "Epoch 61/200\n",
            "124/124 [==============================] - 1s 6ms/step - loss: 38.1523 - val_loss: 47.7556\n",
            "Epoch 62/200\n",
            "124/124 [==============================] - 1s 7ms/step - loss: 37.9532 - val_loss: 53.3938\n",
            "Epoch 63/200\n",
            "124/124 [==============================] - 1s 7ms/step - loss: 37.7903 - val_loss: 50.9069\n",
            "Epoch 64/200\n",
            "124/124 [==============================] - 1s 7ms/step - loss: 37.3220 - val_loss: 53.4035\n",
            "Epoch 65/200\n",
            "124/124 [==============================] - 1s 7ms/step - loss: 38.1925 - val_loss: 41.8031\n",
            "Epoch 66/200\n",
            "124/124 [==============================] - 1s 7ms/step - loss: 38.8573 - val_loss: 49.7149\n",
            "Epoch 67/200\n",
            "124/124 [==============================] - 1s 7ms/step - loss: 38.1915 - val_loss: 62.2986\n",
            "Epoch 68/200\n",
            "124/124 [==============================] - 1s 7ms/step - loss: 38.9176 - val_loss: 45.0259\n",
            "Epoch 69/200\n",
            "124/124 [==============================] - 1s 7ms/step - loss: 37.8287 - val_loss: 68.3303\n",
            "Epoch 70/200\n",
            "124/124 [==============================] - 1s 7ms/step - loss: 38.2788 - val_loss: 51.3672\n",
            "Epoch 71/200\n",
            "124/124 [==============================] - 1s 7ms/step - loss: 38.0958 - val_loss: 53.7490\n",
            "Epoch 72/200\n",
            "124/124 [==============================] - 1s 7ms/step - loss: 37.4621 - val_loss: 61.6268\n",
            "Epoch 73/200\n",
            "124/124 [==============================] - 1s 7ms/step - loss: 38.0381 - val_loss: 53.8887\n",
            "Epoch 74/200\n",
            "124/124 [==============================] - 1s 7ms/step - loss: 37.8963 - val_loss: 54.8649\n",
            "Epoch 75/200\n",
            "124/124 [==============================] - 1s 7ms/step - loss: 38.0962 - val_loss: 54.2748\n",
            "Epoch 76/200\n",
            "124/124 [==============================] - 1s 7ms/step - loss: 37.6032 - val_loss: 53.0030\n",
            "Epoch 77/200\n",
            "124/124 [==============================] - 1s 7ms/step - loss: 38.1160 - val_loss: 75.1266\n",
            "Epoch 78/200\n",
            "124/124 [==============================] - 1s 7ms/step - loss: 38.9786 - val_loss: 51.8077\n",
            "Epoch 79/200\n",
            "124/124 [==============================] - 1s 7ms/step - loss: 38.1843 - val_loss: 47.4174\n",
            "Epoch 80/200\n",
            "124/124 [==============================] - 1s 7ms/step - loss: 37.6370 - val_loss: 53.4795\n",
            "Epoch 81/200\n",
            "124/124 [==============================] - 1s 7ms/step - loss: 38.4778 - val_loss: 55.0469\n",
            "Epoch 82/200\n",
            "124/124 [==============================] - 1s 7ms/step - loss: 38.0921 - val_loss: 61.4687\n",
            "Epoch 83/200\n",
            "124/124 [==============================] - 1s 7ms/step - loss: 38.5708 - val_loss: 51.6713\n",
            "Epoch 84/200\n",
            "124/124 [==============================] - 1s 7ms/step - loss: 37.9516 - val_loss: 51.7352\n",
            "Epoch 85/200\n",
            "124/124 [==============================] - 1s 7ms/step - loss: 38.0142 - val_loss: 48.3453\n",
            "Epoch 86/200\n",
            "124/124 [==============================] - 1s 7ms/step - loss: 38.2316 - val_loss: 56.1933\n",
            "Epoch 87/200\n",
            "124/124 [==============================] - 1s 7ms/step - loss: 38.0152 - val_loss: 58.9368\n",
            "Epoch 88/200\n",
            "124/124 [==============================] - 1s 7ms/step - loss: 38.7222 - val_loss: 54.2111\n",
            "Epoch 89/200\n",
            "124/124 [==============================] - 1s 7ms/step - loss: 37.9482 - val_loss: 53.6654\n",
            "Epoch 90/200\n",
            "124/124 [==============================] - 1s 7ms/step - loss: 38.2848 - val_loss: 48.7417\n",
            "Epoch 91/200\n",
            "124/124 [==============================] - 1s 7ms/step - loss: 38.0093 - val_loss: 52.0358\n",
            "Epoch 92/200\n",
            "124/124 [==============================] - 1s 7ms/step - loss: 37.5743 - val_loss: 53.3951\n",
            "Epoch 93/200\n",
            "124/124 [==============================] - 1s 7ms/step - loss: 37.5246 - val_loss: 55.2862\n",
            "Epoch 94/200\n",
            "124/124 [==============================] - 1s 7ms/step - loss: 37.4681 - val_loss: 53.6504\n",
            "Epoch 95/200\n",
            "124/124 [==============================] - 1s 7ms/step - loss: 38.3493 - val_loss: 52.3259\n",
            "Epoch 96/200\n",
            "124/124 [==============================] - 1s 8ms/step - loss: 38.1006 - val_loss: 59.3634\n",
            "Epoch 97/200\n",
            "124/124 [==============================] - 1s 7ms/step - loss: 38.3721 - val_loss: 64.9931\n",
            "Epoch 98/200\n",
            "124/124 [==============================] - 1s 7ms/step - loss: 37.8274 - val_loss: 43.2061\n",
            "Epoch 99/200\n",
            "124/124 [==============================] - 1s 7ms/step - loss: 38.2485 - val_loss: 56.2717\n",
            "Epoch 100/200\n",
            "124/124 [==============================] - 1s 7ms/step - loss: 38.6064 - val_loss: 48.6755\n",
            "Epoch 101/200\n",
            "124/124 [==============================] - 1s 7ms/step - loss: 37.8442 - val_loss: 55.4939\n",
            "Epoch 102/200\n",
            "124/124 [==============================] - 1s 7ms/step - loss: 37.5532 - val_loss: 58.1990\n",
            "Epoch 103/200\n",
            "124/124 [==============================] - 1s 7ms/step - loss: 38.6232 - val_loss: 57.7240\n",
            "Epoch 104/200\n",
            "124/124 [==============================] - 1s 7ms/step - loss: 38.3587 - val_loss: 49.9708\n",
            "Epoch 105/200\n",
            "124/124 [==============================] - 1s 7ms/step - loss: 37.9367 - val_loss: 53.3336\n",
            "Epoch 106/200\n",
            "124/124 [==============================] - 1s 7ms/step - loss: 38.5081 - val_loss: 64.2247\n",
            "Epoch 107/200\n",
            "124/124 [==============================] - 1s 7ms/step - loss: 37.5661 - val_loss: 46.4937\n",
            "Epoch 108/200\n",
            "124/124 [==============================] - 1s 7ms/step - loss: 37.9008 - val_loss: 46.5862\n",
            "Epoch 109/200\n",
            "124/124 [==============================] - 1s 7ms/step - loss: 38.1954 - val_loss: 61.6862\n",
            "Epoch 110/200\n",
            "124/124 [==============================] - 1s 7ms/step - loss: 38.1912 - val_loss: 54.8506\n",
            "Epoch 111/200\n",
            "124/124 [==============================] - 1s 7ms/step - loss: 36.9712 - val_loss: 56.0964\n",
            "Epoch 112/200\n",
            "124/124 [==============================] - 1s 7ms/step - loss: 37.3753 - val_loss: 53.7886\n",
            "Epoch 113/200\n",
            "124/124 [==============================] - 1s 7ms/step - loss: 38.1691 - val_loss: 55.7204\n",
            "Epoch 114/200\n",
            "124/124 [==============================] - 1s 7ms/step - loss: 38.2338 - val_loss: 46.1440\n",
            "Epoch 115/200\n",
            "124/124 [==============================] - 1s 7ms/step - loss: 38.2814 - val_loss: 46.8436\n"
          ]
        }
      ]
    },
    {
      "cell_type": "markdown",
      "metadata": {
        "id": "OvyY1H9HtDFl"
      },
      "source": [
        "# Plot the model with validation loss"
      ]
    },
    {
      "cell_type": "markdown",
      "metadata": {
        "id": "TKbH1J1svY_-"
      },
      "source": [
        "### CNN model"
      ]
    },
    {
      "cell_type": "code",
      "metadata": {
        "colab": {
          "base_uri": "https://localhost:8080/",
          "height": 627
        },
        "id": "FsLBRqQaofAT",
        "outputId": "4eb9f76c-b1b2-45fb-9d8d-66ddf565d824"
      },
      "source": [
        "plt.figure(figsize=(16, 10))\n",
        "plt.plot(cnn_history.history['loss'], label='train_loss')\n",
        "plt.plot(cnn_history.history['val_loss'], label = 'val_loss')\n",
        "plt.xlabel('Epoch')\n",
        "plt.ylabel('mse')\n",
        "plt.ylim((0, 250))\n",
        "plt.legend(loc='upper right')"
      ],
      "execution_count": 27,
      "outputs": [
        {
          "output_type": "execute_result",
          "data": {
            "text/plain": [
              "<matplotlib.legend.Legend at 0x7fc4cdf64e10>"
            ]
          },
          "metadata": {},
          "execution_count": 27
        },
        {
          "output_type": "display_data",
          "data": {
            "image/png": "[encoded data removed]",
            "text/plain": [
              "<Figure size 1152x720 with 1 Axes>"
            ]
          },
          "metadata": {
            "needs_background": "light"
          }
        }
      ]
    },
    {
      "cell_type": "markdown",
      "metadata": {
        "id": "eRYRi_AEvb8a"
      },
      "source": [
        "### RNN model"
      ]
    },
    {
      "cell_type": "code",
      "metadata": {
        "colab": {
          "base_uri": "https://localhost:8080/",
          "height": 623
        },
        "id": "pi-2FSwSwGjZ",
        "outputId": "34fefa28-2bc4-4ac6-f34a-696213577a49"
      },
      "source": [
        "plt.figure(figsize=(16, 10))\n",
        "plt.plot(rnn_history.history['loss'], label='train_loss')\n",
        "plt.plot(rnn_history.history['val_loss'], label = 'val_loss')\n",
        "plt.xlabel('Epoch')\n",
        "plt.ylabel('mse')\n",
        "plt.legend(loc='upper right')"
      ],
      "execution_count": 24,
      "outputs": [
        {
          "output_type": "execute_result",
          "data": {
            "text/plain": [
              "<matplotlib.legend.Legend at 0x7fc4d2074850>"
            ]
          },
          "metadata": {},
          "execution_count": 24
        },
        {
          "output_type": "display_data",
          "data": {
            "image/png": "[encoded data removed]",
            "text/plain": [
              "<Figure size 1152x720 with 1 Axes>"
            ]
          },
          "metadata": {
            "needs_background": "light"
          }
        }
      ]
    },
    {
      "cell_type": "markdown",
      "metadata": {
        "id": "BvBbi0GgtNDf"
      },
      "source": [
        "# Save results"
      ]
    },
    {
      "cell_type": "code",
      "metadata": {
        "colab": {
          "base_uri": "https://localhost:8080/",
          "height": 206
        },
        "id": "AacyKJsT2PhR",
        "outputId": "a1670f71-512a-4680-e5a0-6f45dbbe5124"
      },
      "source": [
        "rnn_testing_pred = rnn.predict(testing_pred_rnn,)\n",
        "out = pd.DataFrame(rnn_testing_pred, columns=[\"PM2.5-1\", \"PM2.5-2\"])\n",
        "out[\"INDEX\"] = list(range(1,len(out)+1))\n",
        "out = out[[\"INDEX\", \"PM2.5-1\", \"PM2.5-2\"]]\n",
        "out.to_csv(\"%s.csv\" %name, index=False)\n",
        "out.head()"
      ],
      "execution_count": 25,
      "outputs": [
        {
          "output_type": "execute_result",
          "data": {
            "text/html": [
              "<div>\n",
              "<style scoped>\n",
              "    .dataframe tbody tr th:only-of-type {\n",
              "        vertical-align: middle;\n",
              "    }\n",
              "\n",
              "    .dataframe tbody tr th {\n",
              "        vertical-align: top;\n",
              "    }\n",
              "\n",
              "    .dataframe thead th {\n",
              "        text-align: right;\n",
              "    }\n",
              "</style>\n",
              "<table border=\"1\" class=\"dataframe\">\n",
              "  <thead>\n",
              "    <tr style=\"text-align: right;\">\n",
              "      <th></th>\n",
              "      <th>INDEX</th>\n",
              "      <th>PM2.5-1</th>\n",
              "      <th>PM2.5-2</th>\n",
              "    </tr>\n",
              "  </thead>\n",
              "  <tbody>\n",
              "    <tr>\n",
              "      <th>0</th>\n",
              "      <td>1</td>\n",
              "      <td>32.901775</td>\n",
              "      <td>29.398956</td>\n",
              "    </tr>\n",
              "    <tr>\n",
              "      <th>1</th>\n",
              "      <td>2</td>\n",
              "      <td>32.040127</td>\n",
              "      <td>28.348595</td>\n",
              "    </tr>\n",
              "    <tr>\n",
              "      <th>2</th>\n",
              "      <td>3</td>\n",
              "      <td>33.725746</td>\n",
              "      <td>30.020615</td>\n",
              "    </tr>\n",
              "    <tr>\n",
              "      <th>3</th>\n",
              "      <td>4</td>\n",
              "      <td>34.174614</td>\n",
              "      <td>29.932777</td>\n",
              "    </tr>\n",
              "    <tr>\n",
              "      <th>4</th>\n",
              "      <td>5</td>\n",
              "      <td>36.327492</td>\n",
              "      <td>31.364159</td>\n",
              "    </tr>\n",
              "  </tbody>\n",
              "</table>\n",
              "</div>"
            ],
            "text/plain": [
              "   INDEX    PM2.5-1    PM2.5-2\n",
              "0      1  32.901775  29.398956\n",
              "1      2  32.040127  28.348595\n",
              "2      3  33.725746  30.020615\n",
              "3      4  34.174614  29.932777\n",
              "4      5  36.327492  31.364159"
            ]
          },
          "metadata": {},
          "execution_count": 25
        }
      ]
    }
  ]
}